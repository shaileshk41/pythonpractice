ls=[1,2,3,4,562,4,5,2,3,4,5,7,8,56]
for i in range(0,len(ls)):
    ls.count(i)
print(i)
